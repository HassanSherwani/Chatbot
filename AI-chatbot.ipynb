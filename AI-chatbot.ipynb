{
 "cells": [
  {
   "cell_type": "markdown",
   "metadata": {},
   "source": [
    "# AI-chatbot\n",
    "\n",
    "Aim of this excercise is is to design a bot that can answer students' query."
   ]
  },
  {
   "cell_type": "code",
   "execution_count": 1,
   "metadata": {},
   "outputs": [],
   "source": [
    "import pandas as pd\n",
    "import numpy\n",
    "import random"
   ]
  },
  {
   "cell_type": "code",
   "execution_count": 2,
   "metadata": {},
   "outputs": [],
   "source": [
    "import nltk\n",
    "from nltk.stem import WordNetLemmatizer\n",
    "lemm = WordNetLemmatizer()"
   ]
  },
  {
   "cell_type": "code",
   "execution_count": 5,
   "metadata": {},
   "outputs": [],
   "source": [
    "import tflearn\n",
    "import tensorflow as tf"
   ]
  },
  {
   "cell_type": "code",
   "execution_count": 6,
   "metadata": {},
   "outputs": [
    {
     "data": {
      "text/html": [
       "<div>\n",
       "<style scoped>\n",
       "    .dataframe tbody tr th:only-of-type {\n",
       "        vertical-align: middle;\n",
       "    }\n",
       "\n",
       "    .dataframe tbody tr th {\n",
       "        vertical-align: top;\n",
       "    }\n",
       "\n",
       "    .dataframe thead th {\n",
       "        text-align: right;\n",
       "    }\n",
       "</style>\n",
       "<table border=\"1\" class=\"dataframe\">\n",
       "  <thead>\n",
       "    <tr style=\"text-align: right;\">\n",
       "      <th></th>\n",
       "      <th>intents</th>\n",
       "    </tr>\n",
       "  </thead>\n",
       "  <tbody>\n",
       "    <tr>\n",
       "      <th>0</th>\n",
       "      <td>{'tag': 'greeting', 'patterns': ['Hi', 'How ar...</td>\n",
       "    </tr>\n",
       "    <tr>\n",
       "      <th>1</th>\n",
       "      <td>{'tag': 'goodbye', 'patterns': ['cya', 'byeSee...</td>\n",
       "    </tr>\n",
       "    <tr>\n",
       "      <th>2</th>\n",
       "      <td>{'tag': 'age', 'patterns': ['how old', 'how ol...</td>\n",
       "    </tr>\n",
       "    <tr>\n",
       "      <th>3</th>\n",
       "      <td>{'tag': 'name', 'patterns': ['what is your nam...</td>\n",
       "    </tr>\n",
       "    <tr>\n",
       "      <th>4</th>\n",
       "      <td>{'tag': 'profession', 'patterns': ['Id like to...</td>\n",
       "    </tr>\n",
       "    <tr>\n",
       "      <th>5</th>\n",
       "      <td>{'tag': 'hours', 'patterns': ['when are you av...</td>\n",
       "    </tr>\n",
       "  </tbody>\n",
       "</table>\n",
       "</div>"
      ],
      "text/plain": [
       "                                             intents\n",
       "0  {'tag': 'greeting', 'patterns': ['Hi', 'How ar...\n",
       "1  {'tag': 'goodbye', 'patterns': ['cya', 'byeSee...\n",
       "2  {'tag': 'age', 'patterns': ['how old', 'how ol...\n",
       "3  {'tag': 'name', 'patterns': ['what is your nam...\n",
       "4  {'tag': 'profession', 'patterns': ['Id like to...\n",
       "5  {'tag': 'hours', 'patterns': ['when are you av..."
      ]
     },
     "execution_count": 6,
     "metadata": {},
     "output_type": "execute_result"
    }
   ],
   "source": [
    "data = pd.read_json('chatbot.json')\n",
    "data"
   ]
  },
  {
   "cell_type": "code",
   "execution_count": 7,
   "metadata": {},
   "outputs": [],
   "source": [
    "import json\n",
    "with open('chatbot.json') as file:\n",
    "    data2 = json.load(file)"
   ]
  },
  {
   "cell_type": "code",
   "execution_count": 8,
   "metadata": {},
   "outputs": [
    {
     "name": "stdout",
     "output_type": "stream",
     "text": [
      "{'intents': [{'tag': 'greeting', 'patterns': ['Hi', 'How are you', 'Is anyone there?', 'Hello', 'Good day', 'Whats up'], 'responses': ['Hello!', 'Good to see you again!', 'Hi there, how can I help?'], 'context_set': ''}, {'tag': 'goodbye', 'patterns': ['cya', 'byeSee you later', 'Goodbye', 'Good bye', 'I am Leaving', 'Have a Good day'], 'responses': ['Sad to see you go :(', 'Talk to you later', 'Goodbye!'], 'context_set': ''}, {'tag': 'age', 'patterns': ['how old', 'how old is Hassan', 'what is your age', 'how old are you', 'age?'], 'responses': ['I am 32 years old!', '32 years young!'], 'context_set': ''}, {'tag': 'name', 'patterns': ['what is your name', 'what should I call you', 'whats your name?'], 'responses': ['You can call me Hassan.', \"I'm Hassan!\", \"I'm Hassan Sherwani.You may call me Hassan.\"], 'context_set': ''}, {'tag': 'profession', 'patterns': ['Id like to get some information about you', 'what is your profession', 'what do you do for work?', 'Could I know what is your field?'], 'responses': ['I am PhD student at Erasmus school of management', 'I am third year PhD student at RSM. My research focus is on Natural Language Processing'], 'context_set': ''}, {'tag': 'hours', 'patterns': ['when are you available for discussion?', 'what are your office hours', 'hours of work'], 'responses': ['I am available from 10-12 every Thursday.', 'I am in office from 10-12 every Thursday. Room is T09-7'], 'context_set': ''}]}\n"
     ]
    }
   ],
   "source": [
    "print(data2)"
   ]
  },
  {
   "cell_type": "code",
   "execution_count": 9,
   "metadata": {},
   "outputs": [
    {
     "name": "stdout",
     "output_type": "stream",
     "text": [
      "[{'tag': 'greeting', 'patterns': ['Hi', 'How are you', 'Is anyone there?', 'Hello', 'Good day', 'Whats up'], 'responses': ['Hello!', 'Good to see you again!', 'Hi there, how can I help?'], 'context_set': ''}, {'tag': 'goodbye', 'patterns': ['cya', 'byeSee you later', 'Goodbye', 'Good bye', 'I am Leaving', 'Have a Good day'], 'responses': ['Sad to see you go :(', 'Talk to you later', 'Goodbye!'], 'context_set': ''}, {'tag': 'age', 'patterns': ['how old', 'how old is Hassan', 'what is your age', 'how old are you', 'age?'], 'responses': ['I am 32 years old!', '32 years young!'], 'context_set': ''}, {'tag': 'name', 'patterns': ['what is your name', 'what should I call you', 'whats your name?'], 'responses': ['You can call me Hassan.', \"I'm Hassan!\", \"I'm Hassan Sherwani.You may call me Hassan.\"], 'context_set': ''}, {'tag': 'profession', 'patterns': ['Id like to get some information about you', 'what is your profession', 'what do you do for work?', 'Could I know what is your field?'], 'responses': ['I am PhD student at Erasmus school of management', 'I am third year PhD student at RSM. My research focus is on Natural Language Processing'], 'context_set': ''}, {'tag': 'hours', 'patterns': ['when are you available for discussion?', 'what are your office hours', 'hours of work'], 'responses': ['I am available from 10-12 every Thursday.', 'I am in office from 10-12 every Thursday. Room is T09-7'], 'context_set': ''}]\n"
     ]
    }
   ],
   "source": [
    "print(data2[\"intents\"])"
   ]
  },
  {
   "cell_type": "code",
   "execution_count": 10,
   "metadata": {},
   "outputs": [],
   "source": [
    "# for loading in all our words and labels and getting document ready with diff. pattern\n",
    "words = []\n",
    "labels = []\n",
    "docs_x = []\n",
    "docs_y = []\n",
    "\n",
    "for intent in data['intents']:\n",
    "    for pattern in intent['patterns']: # tokenize words inside pattern \n",
    "        wrds = nltk.word_tokenize(pattern)\n",
    "        words.extend(wrds)\n",
    "        docs_x.append(wrds)\n",
    "        docs_y.append(intent[\"tag\"])\n",
    "        \n",
    "    if intent['tag'] not in labels:\n",
    "        labels.append(intent['tag'])"
   ]
  },
  {
   "cell_type": "code",
   "execution_count": 11,
   "metadata": {},
   "outputs": [
    {
     "name": "stdout",
     "output_type": "stream",
     "text": [
      "['Hi', 'How', 'are', 'you', 'Is', 'anyone', 'there', '?', 'Hello', 'Good', 'day', 'Whats', 'up', 'cya', 'byeSee', 'you', 'later', 'Goodbye', 'Good', 'bye', 'I', 'am', 'Leaving', 'Have', 'a', 'Good', 'day', 'how', 'old', 'how', 'old', 'is', 'Hassan', 'what', 'is', 'your', 'age', 'how', 'old', 'are', 'you', 'age', '?', 'what', 'is', 'your', 'name', 'what', 'should', 'I', 'call', 'you', 'whats', 'your', 'name', '?', 'Id', 'like', 'to', 'get', 'some', 'information', 'about', 'you', 'what', 'is', 'your', 'profession', 'what', 'do', 'you', 'do', 'for', 'work', '?', 'Could', 'I', 'know', 'what', 'is', 'your', 'field', '?', 'when', 'are', 'you', 'available', 'for', 'discussion', '?', 'what', 'are', 'your', 'office', 'hours', 'hours', 'of', 'work']\n"
     ]
    }
   ],
   "source": [
    "print(words)"
   ]
  },
  {
   "cell_type": "code",
   "execution_count": 12,
   "metadata": {},
   "outputs": [
    {
     "name": "stdout",
     "output_type": "stream",
     "text": [
      "['greeting', 'goodbye', 'age', 'name', 'profession', 'hours']\n"
     ]
    }
   ],
   "source": [
    "print(labels)"
   ]
  },
  {
   "cell_type": "code",
   "execution_count": 13,
   "metadata": {},
   "outputs": [
    {
     "name": "stdout",
     "output_type": "stream",
     "text": [
      "[['Hi'], ['How', 'are', 'you'], ['Is', 'anyone', 'there', '?'], ['Hello'], ['Good', 'day'], ['Whats', 'up'], ['cya'], ['byeSee', 'you', 'later'], ['Goodbye'], ['Good', 'bye'], ['I', 'am', 'Leaving'], ['Have', 'a', 'Good', 'day'], ['how', 'old'], ['how', 'old', 'is', 'Hassan'], ['what', 'is', 'your', 'age'], ['how', 'old', 'are', 'you'], ['age', '?'], ['what', 'is', 'your', 'name'], ['what', 'should', 'I', 'call', 'you'], ['whats', 'your', 'name', '?'], ['Id', 'like', 'to', 'get', 'some', 'information', 'about', 'you'], ['what', 'is', 'your', 'profession'], ['what', 'do', 'you', 'do', 'for', 'work', '?'], ['Could', 'I', 'know', 'what', 'is', 'your', 'field', '?'], ['when', 'are', 'you', 'available', 'for', 'discussion', '?'], ['what', 'are', 'your', 'office', 'hours'], ['hours', 'of', 'work']]\n"
     ]
    }
   ],
   "source": [
    "print(docs_x)"
   ]
  },
  {
   "cell_type": "code",
   "execution_count": 14,
   "metadata": {},
   "outputs": [
    {
     "name": "stdout",
     "output_type": "stream",
     "text": [
      "['greeting', 'greeting', 'greeting', 'greeting', 'greeting', 'greeting', 'goodbye', 'goodbye', 'goodbye', 'goodbye', 'goodbye', 'goodbye', 'age', 'age', 'age', 'age', 'age', 'name', 'name', 'name', 'profession', 'profession', 'profession', 'profession', 'hours', 'hours', 'hours']\n"
     ]
    }
   ],
   "source": [
    "print(docs_y)"
   ]
  },
  {
   "cell_type": "markdown",
   "metadata": {},
   "source": [
    "# Preprocessing data"
   ]
  },
  {
   "cell_type": "code",
   "execution_count": 15,
   "metadata": {},
   "outputs": [],
   "source": [
    "words = [lemm.lemmatize(w.lower()) for w in words if w != \"?\"]\n",
    "words = sorted(list(set(words))) # removes any duplicates if ever occured"
   ]
  },
  {
   "cell_type": "code",
   "execution_count": 16,
   "metadata": {},
   "outputs": [
    {
     "name": "stdout",
     "output_type": "stream",
     "text": [
      "['a', 'about', 'age', 'am', 'anyone', 'are', 'available', 'bye', 'byesee', 'call', 'could', 'cya', 'day', 'discussion', 'do', 'field', 'for', 'get', 'good', 'goodbye', 'hassan', 'have', 'hello', 'hi', 'hour', 'how', 'i', 'id', 'information', 'is', 'know', 'later', 'leaving', 'like', 'name', 'of', 'office', 'old', 'profession', 'should', 'some', 'there', 'to', 'up', 'what', 'whats', 'when', 'work', 'you', 'your']\n"
     ]
    }
   ],
   "source": [
    "print(words)"
   ]
  },
  {
   "cell_type": "code",
   "execution_count": 17,
   "metadata": {},
   "outputs": [],
   "source": [
    "labels = sorted(labels)"
   ]
  },
  {
   "cell_type": "code",
   "execution_count": 18,
   "metadata": {},
   "outputs": [
    {
     "name": "stdout",
     "output_type": "stream",
     "text": [
      "['age', 'goodbye', 'greeting', 'hours', 'name', 'profession']\n"
     ]
    }
   ],
   "source": [
    "print(labels)"
   ]
  },
  {
   "cell_type": "markdown",
   "metadata": {},
   "source": [
    "**We have 6 labels. So, we will have pattern of 6 encoded terms**"
   ]
  },
  {
   "cell_type": "markdown",
   "metadata": {},
   "source": [
    "### Bag of Words\n",
    "\n",
    "- Converting out strings of words into numerical input.<br>\n",
    "\n",
    "- represent each sentence with a list the length of the amount of words in our models vocabulary. Each position in the list will represent a word from our vocabulary. If the position in the list is a 1 then that will mean that the word exists in our sentence, if it is a 0 then the word is nor present\n",
    "\n",
    "- bag of words because the order in which the words appear in the sentence is lost, we only know the presence of words in our models vocabulary."
   ]
  },
  {
   "cell_type": "code",
   "execution_count": 19,
   "metadata": {},
   "outputs": [],
   "source": [
    "training = []\n",
    "output = []\n",
    "\n",
    "out_empty = [0 for _ in range(len(labels))]\n",
    "\n",
    "for x, doc in enumerate(docs_x):\n",
    "    bag = []\n",
    "\n",
    "    wrds = [lemm.lemmatize(w.lower()) for w in doc]\n",
    "\n",
    "    for w in words:\n",
    "        if w in wrds:\n",
    "            bag.append(1)\n",
    "        else:\n",
    "            bag.append(0)\n",
    "\n",
    "    output_row = out_empty[:]\n",
    "    output_row[labels.index(docs_y[x])] = 1\n",
    "\n",
    "    training.append(bag)\n",
    "    output.append(output_row)"
   ]
  },
  {
   "cell_type": "code",
   "execution_count": 20,
   "metadata": {},
   "outputs": [],
   "source": [
    "# Our neural network will take arrays so, we need to convert\n",
    "training = numpy.array(training)\n",
    "output = numpy.array(output)"
   ]
  },
  {
   "cell_type": "code",
   "execution_count": 21,
   "metadata": {},
   "outputs": [
    {
     "name": "stdout",
     "output_type": "stream",
     "text": [
      "[[0 0 0 ... 0 0 0]\n",
      " [0 0 0 ... 0 1 0]\n",
      " [0 0 0 ... 0 0 0]\n",
      " ...\n",
      " [0 0 0 ... 0 1 0]\n",
      " [0 0 0 ... 0 0 1]\n",
      " [0 0 0 ... 1 0 0]]\n"
     ]
    }
   ],
   "source": [
    "print(training)"
   ]
  },
  {
   "cell_type": "code",
   "execution_count": 22,
   "metadata": {},
   "outputs": [
    {
     "data": {
      "text/plain": [
       "27"
      ]
     },
     "execution_count": 22,
     "metadata": {},
     "output_type": "execute_result"
    }
   ],
   "source": [
    "len(training)"
   ]
  },
  {
   "cell_type": "code",
   "execution_count": 23,
   "metadata": {},
   "outputs": [
    {
     "data": {
      "text/plain": [
       "50"
      ]
     },
     "execution_count": 23,
     "metadata": {},
     "output_type": "execute_result"
    }
   ],
   "source": [
    "len(training[0])"
   ]
  },
  {
   "cell_type": "code",
   "execution_count": 24,
   "metadata": {},
   "outputs": [
    {
     "name": "stdout",
     "output_type": "stream",
     "text": [
      "[[0 0 1 0 0 0]\n",
      " [0 0 1 0 0 0]\n",
      " [0 0 1 0 0 0]\n",
      " [0 0 1 0 0 0]\n",
      " [0 0 1 0 0 0]\n",
      " [0 0 1 0 0 0]\n",
      " [0 1 0 0 0 0]\n",
      " [0 1 0 0 0 0]\n",
      " [0 1 0 0 0 0]\n",
      " [0 1 0 0 0 0]\n",
      " [0 1 0 0 0 0]\n",
      " [0 1 0 0 0 0]\n",
      " [1 0 0 0 0 0]\n",
      " [1 0 0 0 0 0]\n",
      " [1 0 0 0 0 0]\n",
      " [1 0 0 0 0 0]\n",
      " [1 0 0 0 0 0]\n",
      " [0 0 0 0 1 0]\n",
      " [0 0 0 0 1 0]\n",
      " [0 0 0 0 1 0]\n",
      " [0 0 0 0 0 1]\n",
      " [0 0 0 0 0 1]\n",
      " [0 0 0 0 0 1]\n",
      " [0 0 0 0 0 1]\n",
      " [0 0 0 1 0 0]\n",
      " [0 0 0 1 0 0]\n",
      " [0 0 0 1 0 0]]\n"
     ]
    }
   ],
   "source": [
    "#labels\n",
    "print(output)"
   ]
  },
  {
   "cell_type": "code",
   "execution_count": 25,
   "metadata": {},
   "outputs": [
    {
     "data": {
      "text/plain": [
       "6"
      ]
     },
     "execution_count": 25,
     "metadata": {},
     "output_type": "execute_result"
    }
   ],
   "source": [
    "len(labels)"
   ]
  },
  {
   "cell_type": "code",
   "execution_count": 26,
   "metadata": {},
   "outputs": [
    {
     "data": {
      "text/plain": [
       "6"
      ]
     },
     "execution_count": 26,
     "metadata": {},
     "output_type": "execute_result"
    }
   ],
   "source": [
    "len(output[0])"
   ]
  },
  {
   "cell_type": "markdown",
   "metadata": {},
   "source": [
    "['age', 'goodbye', 'greeting', 'hours', 'name', 'shop'] are encoded in this step.\n",
    "\n",
    "output lists which are the length of the amount of labels/tags we have in our dataset. Each position in the list will represent one distinct label/tag, a 1 in any of those positions will show which label/tag is represented."
   ]
  },
  {
   "cell_type": "markdown",
   "metadata": {},
   "source": [
    "# Developing a Model"
   ]
  },
  {
   "cell_type": "code",
   "execution_count": 27,
   "metadata": {},
   "outputs": [],
   "source": [
    "tf.reset_default_graph()\n",
    "\n",
    "net = tflearn.input_data(shape=[None, len(training[0])])\n",
    "net = tflearn.fully_connected(net, 8)\n",
    "net = tflearn.fully_connected(net, 8)\n",
    "net = tflearn.fully_connected(net, len(output[0]), activation=\"softmax\")\n",
    "net = tflearn.regression(net)\n",
    "\n",
    "model = tflearn.DNN(net)"
   ]
  },
  {
   "cell_type": "code",
   "execution_count": 28,
   "metadata": {},
   "outputs": [
    {
     "name": "stdout",
     "output_type": "stream",
     "text": [
      "Training Step: 3199  | total loss: \u001b[1m\u001b[32m0.45014\u001b[0m\u001b[0m | time: 0.005s\n",
      "| Adam | epoch: 800 | loss: 0.45014 - acc: 0.9428 -- iter: 24/27\n",
      "Training Step: 3200  | total loss: \u001b[1m\u001b[32m0.41523\u001b[0m\u001b[0m | time: 0.006s\n",
      "| Adam | epoch: 800 | loss: 0.41523 - acc: 0.9485 -- iter: 27/27\n",
      "--\n"
     ]
    }
   ],
   "source": [
    "history=model.fit(training, output, n_epoch=800, batch_size=8, show_metric=True)"
   ]
  },
  {
   "cell_type": "code",
   "execution_count": 29,
   "metadata": {},
   "outputs": [
    {
     "name": "stdout",
     "output_type": "stream",
     "text": [
      "INFO:tensorflow:C:\\Users\\69785hsh\\Downloads\\Data Science\\Learning Projects\\chatbot\\bot.tflearn is not in all_model_checkpoint_paths. Manually adding it.\n"
     ]
    }
   ],
   "source": [
    "model.save(\"bot.tflearn\")"
   ]
  },
  {
   "cell_type": "markdown",
   "metadata": {},
   "source": [
    "# Predictions"
   ]
  },
  {
   "cell_type": "code",
   "execution_count": 30,
   "metadata": {},
   "outputs": [
    {
     "name": "stdout",
     "output_type": "stream",
     "text": [
      "Start talking with the bot (type close to stop)!\n",
      "User: Is anyone there?\n",
      "Good to see you again!\n",
      "User: Whats up?\n",
      "Hi there, how can I help?\n",
      "User: what should I call you?\n",
      "I'm Hassan!\n",
      "User: close\n"
     ]
    }
   ],
   "source": [
    "def bag_of_words(s, words):\n",
    "    bag = [0 for _ in range(len(words))]\n",
    "\n",
    "    s_words = nltk.word_tokenize(s)\n",
    "    s_words = [lemm.lemmatize(word.lower()) for word in s_words]\n",
    "\n",
    "    for se in s_words:\n",
    "        for i, w in enumerate(words):\n",
    "            if w == se:\n",
    "                bag[i] = 1\n",
    "            \n",
    "    return numpy.array(bag)\n",
    "\n",
    "\n",
    "def chat():\n",
    "    print(\"Start talking with the bot (type close to stop)!\")\n",
    "    while True:\n",
    "        inp = input(\"User: \")\n",
    "        if inp.lower() == \"close\":\n",
    "            break\n",
    "\n",
    "        results = model.predict([bag_of_words(inp, words)]) # shows results with probability of each neurons with that word. \n",
    "        results_index = numpy.argmax(results) # to give maximum of index out of all neurons.\n",
    "        tag = labels[results_index]\n",
    "\n",
    "        for tg in data[\"intents\"]:\n",
    "            if tg['tag'] == tag:\n",
    "                responses = tg['responses']\n",
    "\n",
    "        print(random.choice(responses))\n",
    "\n",
    "chat()"
   ]
  },
  {
   "cell_type": "markdown",
   "metadata": {},
   "source": [
    "### checking probability of  discussion"
   ]
  },
  {
   "cell_type": "code",
   "execution_count": 31,
   "metadata": {},
   "outputs": [
    {
     "name": "stdout",
     "output_type": "stream",
     "text": [
      "Start talking with the bot (type close to stop)!\n",
      "User: hi\n",
      "[[3.1950664e-02 6.2040379e-03 9.4528866e-01 6.6862121e-05 1.6456170e-02\n",
      "  3.3628821e-05]]\n",
      "Hi there, how can I help?\n",
      "User: what is your name?\n",
      "[[6.5878950e-02 9.5405958e-05 2.8744360e-02 2.8601135e-04 8.4643829e-01\n",
      "  5.8556996e-02]]\n",
      "You can call me Hassan.\n",
      "User: close\n"
     ]
    }
   ],
   "source": [
    "def bag_of_words(s, words):\n",
    "    bag = [0 for _ in range(len(words))]\n",
    "\n",
    "    s_words = nltk.word_tokenize(s)\n",
    "    s_words = [lemm.lemmatize(word.lower()) for word in s_words]\n",
    "\n",
    "    for se in s_words:\n",
    "        for i, w in enumerate(words):\n",
    "            if w == se:\n",
    "                bag[i] = 1\n",
    "            \n",
    "    return numpy.array(bag)\n",
    "\n",
    "\n",
    "def chat():\n",
    "    print(\"Start talking with the bot (type close to stop)!\")\n",
    "    while True:\n",
    "        inp = input(\"User: \")\n",
    "        if inp.lower() == \"close\":\n",
    "            break\n",
    "\n",
    "        results = model.predict([bag_of_words(inp, words)]) # shows results with probability of each neurons with that word. \n",
    "        results_index = numpy.argmax(results) # to give maximum of index out of all neurons.\n",
    "        tag = labels[results_index]\n",
    "        print(results)\n",
    "\n",
    "        for tg in data[\"intents\"]:\n",
    "            if tg['tag'] == tag:\n",
    "                responses = tg['responses']\n",
    "\n",
    "        print(random.choice(responses))\n",
    "\n",
    "chat()"
   ]
  },
  {
   "cell_type": "markdown",
   "metadata": {},
   "source": [
    "### For a smarter bot"
   ]
  },
  {
   "cell_type": "code",
   "execution_count": 32,
   "metadata": {},
   "outputs": [
    {
     "name": "stdout",
     "output_type": "stream",
     "text": [
      "Start talking with the bot (type close to stop)!\n",
      "User: whats your name?\n",
      "I'm Hassan!\n",
      "User: Could I know what is your field?\n",
      "I am third year PhD student at RSM. My research focus is on Natural Language Processing\n",
      "User: Do you know Mr. T from Rocky movie?\n",
      "I didn't get your question. Please try again\n",
      "User: what are your office hours?\n",
      "I am available from 10-12 every Thursday.\n",
      "User: cya\n",
      "Goodbye!\n",
      "User: close\n"
     ]
    }
   ],
   "source": [
    "def bag_of_words(s, words):\n",
    "    bag = [0 for _ in range(len(words))]\n",
    "\n",
    "    s_words = nltk.word_tokenize(s)\n",
    "    s_words = [lemm.lemmatize(word.lower()) for word in s_words]\n",
    "\n",
    "    for se in s_words:\n",
    "        for i, w in enumerate(words):\n",
    "            if w == se:\n",
    "                bag[i] = 1\n",
    "            \n",
    "    return numpy.array(bag)\n",
    "\n",
    "\n",
    "def chat():\n",
    "    print(\"Start talking with the bot (type close to stop)!\")\n",
    "    while True:\n",
    "        inp = input(\"User: \")\n",
    "        if inp.lower() == \"close\":\n",
    "            break\n",
    "\n",
    "        results = model.predict([bag_of_words(inp, words)])[0] # for words that are not understood\n",
    "        results_index = numpy.argmax(results) # to give maximum of index out of all neurons.\n",
    "        tag = labels[results_index]\n",
    "        if results[results_index] > 0.65:\n",
    "\n",
    "            for tg in data[\"intents\"]:\n",
    "                if tg['tag'] == tag:\n",
    "                    responses = tg['responses']\n",
    "        \n",
    "            print(random.choice(responses))\n",
    "        else:\n",
    "            print(\"I didn't get your question. Please try again\")\n",
    "\n",
    "chat()"
   ]
  }
 ],
 "metadata": {
  "kernelspec": {
   "display_name": "Python 3",
   "language": "python",
   "name": "python3"
  },
  "language_info": {
   "codemirror_mode": {
    "name": "ipython",
    "version": 3
   },
   "file_extension": ".py",
   "mimetype": "text/x-python",
   "name": "python",
   "nbconvert_exporter": "python",
   "pygments_lexer": "ipython3",
   "version": "3.6.3"
  }
 },
 "nbformat": 4,
 "nbformat_minor": 2
}
